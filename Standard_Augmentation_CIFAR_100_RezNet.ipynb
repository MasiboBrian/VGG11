{
  "nbformat": 4,
  "nbformat_minor": 0,
  "metadata": {
    "colab": {
      "provenance": [],
      "authorship_tag": "ABX9TyM3Xc95IBhXjpq0QlOSgR8F",
      "include_colab_link": true
    },
    "kernelspec": {
      "name": "python3",
      "display_name": "Python 3"
    },
    "language_info": {
      "name": "python"
    },
    "accelerator": "GPU"
  },
  "cells": [
    {
      "cell_type": "markdown",
      "metadata": {
        "id": "view-in-github",
        "colab_type": "text"
      },
      "source": [
        "<a href=\"https://colab.research.google.com/github/MasiboBrian/VGG11/blob/main/Standard_Augmentation_CIFAR_100_RezNet.ipynb\" target=\"_parent\"><img src=\"https://colab.research.google.com/assets/colab-badge.svg\" alt=\"Open In Colab\"/></a>"
      ]
    },
    {
      "cell_type": "code",
      "metadata": {
        "id": "qM3rUMc6-cH5"
      },
      "source": [
        "\n",
        "from __future__ import print_function\n",
        "import numpy as np\n",
        "\n",
        "import keras\n",
        "from keras.datasets import cifar100\n",
        "from keras.layers import AveragePooling2D, Input, Flatten\n",
        "from keras.layers import Dense, Conv2D, BatchNormalization, Activation\n",
        "from keras.callbacks import ReduceLROnPlateau\n",
        "from keras.regularizers import l2\n",
        "from keras.callbacks import ModelCheckpoint, LearningRateScheduler\n",
        "from keras.optimizers import Adam\n",
        "from keras.preprocessing.image import ImageDataGenerator\n",
        "from keras import backend as K\n",
        "from keras.models import Model\n",
        "import os\n",
        "\n",
        "from sklearn.model_selection import train_test_split"
      ],
      "execution_count": null,
      "outputs": []
    },
    {
      "cell_type": "code",
      "metadata": {
        "id": "BGp-yTj8q2Mo"
      },
      "source": [
        "import pandas as pd"
      ],
      "execution_count": null,
      "outputs": []
    },
    {
      "cell_type": "markdown",
      "metadata": {
        "id": "7Q_-Ui-LtM4o"
      },
      "source": [
        "Standard Augmentation"
      ]
    },
    {
      "cell_type": "code",
      "metadata": {
        "id": "beHra2X7tJyC"
      },
      "source": [
        "%matplotlib inline\n",
        "import matplotlib.pyplot as plt\n",
        "\n",
        "def transform(new_img, shift, dirctn):\n",
        "    assert dirctn in ['right', 'left', 'down', 'up'], 'dirctns should be top|up|left|right'\n",
        "    img = new_img.copy()\n",
        "\n",
        "    if dirctn == 'right':\n",
        "        right_slice = img[:,:shift].shape\n",
        "        img[:, shift:] = img[:, :-shift]\n",
        "        img[:,:shift] = np.zeros(right_slice)\n",
        "\n",
        "    if dirctn == 'left':\n",
        "        left_slice = img[:, -shift:].shape\n",
        "        img[:, :-shift] = img[:, shift:]\n",
        "        img[:, -shift:] = np.zeros(left_slice)\n",
        "    if dirctn == 'down':\n",
        "        down_slice = img[:shift, :].shape\n",
        "        img[shift:, :] = img[:-shift,:]\n",
        "        img[:shift, :] = np.zeros(down_slice)\n",
        "    if dirctn == 'up':\n",
        "        upper_slice = img[-shift:,:].shape\n",
        "        img[:-shift, :] = img[shift:, :]\n",
        "        img[-shift:,:] = np.zeros(upper_slice)\n",
        "\n",
        "    return img\n",
        "\n",
        "\n",
        "def std_aug():\n",
        "  def augment(image_in, p=0.5):\n",
        "    K = 4\n",
        "    k1 = np.random.randint(-K, K)\n",
        "    k2 = np.random.randint(-K, K)\n",
        "\n",
        "    #img_h, img_w, img_c = image_in.shape\n",
        "    p_1 = np.random.rand()\n",
        "    if k1!=0 and k2!=0:\n",
        "      if k1>0:\n",
        "        image_in = transform(image_in, shift=abs(k1), dirctn='up')\n",
        "      else:\n",
        "        image_in = transform(image_in, shift=abs(k1), dirctn='down')\n",
        "\n",
        "      if k2>0:\n",
        "        image_in = transform(image_in, shift=abs(k2), dirctn='right')\n",
        "      else:\n",
        "        image_in = transform(image_in, shift=abs(k2), dirctn='left')\n",
        "\n",
        "    if p_1 > p:\n",
        "      image_in = np.fliplr(image_in)\n",
        "    return image_in\n",
        "  return augment"
      ],
      "execution_count": null,
      "outputs": []
    },
    {
      "cell_type": "markdown",
      "metadata": {
        "id": "iyptYRPZhPZy"
      },
      "source": [
        "RESNET"
      ]
    },
    {
      "cell_type": "code",
      "metadata": {
        "id": "IylQfjUdfmHD"
      },
      "source": [
        "def resnet_layer(inputs,\n",
        "                 num_filters=16,\n",
        "                 kernel_size=3,\n",
        "                 strides=1,\n",
        "                 activation='relu',\n",
        "                 batch_normalization=True,\n",
        "                 conv_first=True):\n",
        "    conv = Conv2D(num_filters,\n",
        "                  kernel_size=kernel_size,\n",
        "                  strides=strides,\n",
        "                  padding='same',\n",
        "                  kernel_initializer='he_normal',\n",
        "                  kernel_regularizer=l2(1e-4))\n",
        "\n",
        "\n",
        "\n",
        "    x = inputs\n",
        "    if conv_first:\n",
        "        x = conv(x)\n",
        "        if batch_normalization:\n",
        "            x = BatchNormalization()(x)\n",
        "        if activation is not None:\n",
        "            x = Activation(activation)(x)\n",
        "    else:\n",
        "        if batch_normalization:\n",
        "            x = BatchNormalization()(x)\n",
        "        if activation is not None:\n",
        "            x = Activation(activation)(x)\n",
        "        x = conv(x)\n",
        "    return x\n",
        "\n",
        "\n",
        "def resnet_v2(input_shape, depth, num_classes=100):\n",
        "\n",
        "    if (depth - 2) % 9 != 0:\n",
        "        raise ValueError('depth should be 9n+2 (eg 56 or 110 in [b])')\n",
        "    # Start model definition.\n",
        "    num_filters_in = 16\n",
        "    num_res_blocks = int((depth - 2) / 9)\n",
        "\n",
        "    inputs = Input(shape=input_shape)\n",
        "    # v2 performs Conv2D with BN-ReLU on input before splitting into 2 paths\n",
        "    x = resnet_layer(inputs=inputs,\n",
        "                     num_filters=num_filters_in,\n",
        "                     conv_first=True)\n",
        "\n",
        "    # Instantiate the stack of residual units\n",
        "    for stage in range(3):\n",
        "        for res_block in range(num_res_blocks):\n",
        "            activation = 'relu'\n",
        "            batch_normalization = True\n",
        "            strides = 1\n",
        "            if stage == 0:\n",
        "                num_filters_out = num_filters_in * 4\n",
        "                if res_block == 0:  # first layer and first stage\n",
        "                    activation = None\n",
        "                    batch_normalization = False\n",
        "            else:\n",
        "                num_filters_out = num_filters_in * 2\n",
        "                if res_block == 0:  # first layer but not first stage\n",
        "                    strides = 2    # downsample\n",
        "\n",
        "            # bottleneck residual unit\n",
        "            y = resnet_layer(inputs=x,\n",
        "                             num_filters=num_filters_in,\n",
        "                             kernel_size=1,\n",
        "                             strides=strides,\n",
        "                             activation=activation,\n",
        "                             batch_normalization=batch_normalization,\n",
        "                             conv_first=False)\n",
        "            y = resnet_layer(inputs=y,\n",
        "                             num_filters=num_filters_in,\n",
        "                             conv_first=False)\n",
        "            y = resnet_layer(inputs=y,\n",
        "                             num_filters=num_filters_out,\n",
        "                             kernel_size=1,\n",
        "                             conv_first=False)\n",
        "            if res_block == 0:\n",
        "                # linear projection residual shortcut connection to match\n",
        "                # changed dims\n",
        "                x = resnet_layer(inputs=x,\n",
        "                                 num_filters=num_filters_out,\n",
        "                                 kernel_size=1,\n",
        "                                 strides=strides,\n",
        "                                 activation=None,\n",
        "                                 batch_normalization=False)\n",
        "            x = keras.layers.add([x, y])\n",
        "\n",
        "        num_filters_in = num_filters_out\n",
        "\n",
        "    # Add classifier on top.\n",
        "    # v2 has BN-ReLU before Pooling\n",
        "    x = BatchNormalization()(x)\n",
        "    x = Activation('relu')(x)\n",
        "    x = AveragePooling2D(pool_size=8)(x)\n",
        "    y = Flatten()(x)\n",
        "    outputs = Dense(num_classes,\n",
        "                    activation='softmax',\n",
        "                    kernel_initializer='he_normal')(y)\n",
        "\n",
        "    # Instantiate model.\n",
        "    model = Model(inputs=inputs, outputs=outputs)\n",
        "    return model"
      ],
      "execution_count": null,
      "outputs": []
    },
    {
      "cell_type": "markdown",
      "metadata": {
        "id": "MDtJsjHUhXcQ"
      },
      "source": [
        "Data Preparation"
      ]
    },
    {
      "cell_type": "code",
      "metadata": {
        "id": "N2LVml7FgLSR"
      },
      "source": [
        "(x_train, y_train), (x_test, y_test) = cifar100.load_data()\n",
        "\n",
        "input_shape = x_train.shape[1:]\n",
        "\n",
        "x_train = x_train.astype('float32') / 255\n",
        "x_test = x_test.astype('float32') / 255\n",
        "\n",
        "x_train, X_test, y_train, Y_test = train_test_split(x_train, y_train, stratify=y_train, test_size=0.8)\n",
        "\n",
        "N = 100\n",
        "\n",
        "y_train = keras.utils.to_categorical(y_train, N)\n",
        "y_test = keras.utils.to_categorical(y_test, N)"
      ],
      "execution_count": null,
      "outputs": []
    },
    {
      "cell_type": "markdown",
      "metadata": {
        "id": "JoqpZ_Qdhflb"
      },
      "source": [
        "Training Parameters"
      ]
    },
    {
      "cell_type": "code",
      "metadata": {
        "id": "jcFWLKNxfyPy"
      },
      "source": [
        "batch_size = 400\n",
        "epochs = 50\n",
        "#N = 100\n",
        "\n",
        "n=3\n",
        "depth = n*6+2\n",
        "model_type = 'ResNet%dv' % (depth)"
      ],
      "execution_count": null,
      "outputs": []
    },
    {
      "cell_type": "markdown",
      "metadata": {
        "id": "YXJ_0sj6iqZv"
      },
      "source": [
        "Model"
      ]
    },
    {
      "cell_type": "code",
      "metadata": {
        "colab": {
          "base_uri": "https://localhost:8080/"
        },
        "id": "LdTwi7NHgPb7",
        "outputId": "0ae65749-4b94-4f67-8161-908498d94641"
      },
      "source": [
        "model = resnet_v2(input_shape=input_shape, depth=depth)\n",
        "\n",
        "\n",
        "model.compile(loss='categorical_crossentropy',\n",
        "              optimizer=Adam(learning_rate=0.001),\n",
        "              metrics=['accuracy'])\n",
        "\n",
        "plot = model.fit(x_train, y_train,\n",
        "              batch_size=batch_size,\n",
        "              epochs=epochs,\n",
        "              validation_data=(x_test, y_test),\n",
        "              shuffle=True)\n",
        "\n",
        "#Final Scores\n",
        "scores = model.evaluate(x_test, y_test, verbose=1)\n",
        "print('Test loss:', scores[0])\n",
        "print('Test accuracy:', scores[1])"
      ],
      "execution_count": null,
      "outputs": [
        {
          "output_type": "stream",
          "text": [
            "Epoch 1/50\n",
            "25/25 [==============================] - 12s 373ms/step - loss: 4.9894 - accuracy: 0.0324 - val_loss: 7.4184 - val_accuracy: 0.0197\n",
            "Epoch 2/50\n",
            "25/25 [==============================] - 8s 341ms/step - loss: 4.5036 - accuracy: 0.0956 - val_loss: 5.0129 - val_accuracy: 0.0314\n",
            "Epoch 3/50\n",
            "25/25 [==============================] - 9s 344ms/step - loss: 4.2618 - accuracy: 0.1242 - val_loss: 4.8880 - val_accuracy: 0.0392\n",
            "Epoch 4/50\n",
            "25/25 [==============================] - 8s 342ms/step - loss: 4.0725 - accuracy: 0.1535 - val_loss: 4.9706 - val_accuracy: 0.0384\n",
            "Epoch 5/50\n",
            "25/25 [==============================] - 9s 344ms/step - loss: 3.9037 - accuracy: 0.1758 - val_loss: 5.1000 - val_accuracy: 0.0335\n",
            "Epoch 6/50\n",
            "25/25 [==============================] - 8s 342ms/step - loss: 3.7595 - accuracy: 0.1978 - val_loss: 5.2390 - val_accuracy: 0.0333\n",
            "Epoch 7/50\n",
            "25/25 [==============================] - 8s 343ms/step - loss: 3.5918 - accuracy: 0.2425 - val_loss: 5.1857 - val_accuracy: 0.0376\n",
            "Epoch 8/50\n",
            "25/25 [==============================] - 8s 343ms/step - loss: 3.4345 - accuracy: 0.2689 - val_loss: 4.9661 - val_accuracy: 0.0543\n",
            "Epoch 9/50\n",
            "25/25 [==============================] - 9s 344ms/step - loss: 3.2836 - accuracy: 0.2879 - val_loss: 5.0965 - val_accuracy: 0.0526\n",
            "Epoch 10/50\n",
            "25/25 [==============================] - 8s 342ms/step - loss: 3.1141 - accuracy: 0.3199 - val_loss: 5.2255 - val_accuracy: 0.0558\n",
            "Epoch 11/50\n",
            "25/25 [==============================] - 9s 344ms/step - loss: 2.9568 - accuracy: 0.3572 - val_loss: 5.2808 - val_accuracy: 0.0542\n",
            "Epoch 12/50\n",
            "25/25 [==============================] - 9s 344ms/step - loss: 2.7714 - accuracy: 0.4016 - val_loss: 4.8929 - val_accuracy: 0.0788\n",
            "Epoch 13/50\n",
            "25/25 [==============================] - 9s 344ms/step - loss: 2.6178 - accuracy: 0.4302 - val_loss: 5.1463 - val_accuracy: 0.0794\n",
            "Epoch 14/50\n",
            "25/25 [==============================] - 9s 344ms/step - loss: 2.4326 - accuracy: 0.4801 - val_loss: 4.5810 - val_accuracy: 0.1066\n",
            "Epoch 15/50\n",
            "25/25 [==============================] - 9s 345ms/step - loss: 2.2022 - accuracy: 0.5534 - val_loss: 5.0307 - val_accuracy: 0.0947\n",
            "Epoch 16/50\n",
            "25/25 [==============================] - 9s 346ms/step - loss: 1.9899 - accuracy: 0.6091 - val_loss: 5.2343 - val_accuracy: 0.0920\n",
            "Epoch 17/50\n",
            "25/25 [==============================] - 9s 346ms/step - loss: 1.8586 - accuracy: 0.6403 - val_loss: 5.0556 - val_accuracy: 0.1072\n",
            "Epoch 18/50\n",
            "25/25 [==============================] - 9s 344ms/step - loss: 1.6583 - accuracy: 0.7016 - val_loss: 4.9989 - val_accuracy: 0.1103\n",
            "Epoch 19/50\n",
            "25/25 [==============================] - 9s 345ms/step - loss: 1.4929 - accuracy: 0.7489 - val_loss: 4.8469 - val_accuracy: 0.1186\n",
            "Epoch 20/50\n",
            "25/25 [==============================] - 9s 345ms/step - loss: 1.2961 - accuracy: 0.8046 - val_loss: 5.9604 - val_accuracy: 0.0942\n",
            "Epoch 21/50\n",
            "25/25 [==============================] - 9s 346ms/step - loss: 1.1366 - accuracy: 0.8584 - val_loss: 5.6600 - val_accuracy: 0.1027\n",
            "Epoch 22/50\n",
            "25/25 [==============================] - 9s 344ms/step - loss: 1.0410 - accuracy: 0.8815 - val_loss: 5.2330 - val_accuracy: 0.1200\n",
            "Epoch 23/50\n",
            "25/25 [==============================] - 9s 345ms/step - loss: 0.9167 - accuracy: 0.9126 - val_loss: 5.1177 - val_accuracy: 0.1318\n",
            "Epoch 24/50\n",
            "25/25 [==============================] - 9s 345ms/step - loss: 0.8281 - accuracy: 0.9355 - val_loss: 5.6735 - val_accuracy: 0.1194\n",
            "Epoch 25/50\n",
            "25/25 [==============================] - 9s 345ms/step - loss: 0.7246 - accuracy: 0.9585 - val_loss: 5.6933 - val_accuracy: 0.1230\n",
            "Epoch 26/50\n",
            "25/25 [==============================] - 9s 345ms/step - loss: 0.6514 - accuracy: 0.9709 - val_loss: 5.8042 - val_accuracy: 0.1263\n",
            "Epoch 27/50\n",
            "25/25 [==============================] - 9s 346ms/step - loss: 0.5889 - accuracy: 0.9820 - val_loss: 5.1213 - val_accuracy: 0.1491\n",
            "Epoch 28/50\n",
            "25/25 [==============================] - 9s 345ms/step - loss: 0.5350 - accuracy: 0.9881 - val_loss: 6.3253 - val_accuracy: 0.1144\n",
            "Epoch 29/50\n",
            "25/25 [==============================] - 9s 346ms/step - loss: 0.4973 - accuracy: 0.9936 - val_loss: 5.6237 - val_accuracy: 0.1399\n",
            "Epoch 30/50\n",
            "25/25 [==============================] - 9s 345ms/step - loss: 0.4530 - accuracy: 0.9967 - val_loss: 5.3343 - val_accuracy: 0.1572\n",
            "Epoch 31/50\n",
            "25/25 [==============================] - 9s 345ms/step - loss: 0.4238 - accuracy: 0.9979 - val_loss: 5.3645 - val_accuracy: 0.1501\n",
            "Epoch 32/50\n",
            "25/25 [==============================] - 9s 344ms/step - loss: 0.4140 - accuracy: 0.9991 - val_loss: 5.0263 - val_accuracy: 0.1727\n",
            "Epoch 33/50\n",
            "25/25 [==============================] - 9s 346ms/step - loss: 0.3954 - accuracy: 0.9995 - val_loss: 4.9495 - val_accuracy: 0.1757\n",
            "Epoch 34/50\n",
            "25/25 [==============================] - 9s 345ms/step - loss: 0.3988 - accuracy: 0.9970 - val_loss: 5.0507 - val_accuracy: 0.1665\n",
            "Epoch 35/50\n",
            "25/25 [==============================] - 9s 346ms/step - loss: 0.3909 - accuracy: 0.9989 - val_loss: 5.5505 - val_accuracy: 0.1597\n",
            "Epoch 36/50\n",
            "25/25 [==============================] - 9s 345ms/step - loss: 0.3847 - accuracy: 0.9994 - val_loss: 4.9774 - val_accuracy: 0.1740\n",
            "Epoch 37/50\n",
            "25/25 [==============================] - 9s 345ms/step - loss: 0.3782 - accuracy: 0.9993 - val_loss: 5.1581 - val_accuracy: 0.1757\n",
            "Epoch 38/50\n",
            "25/25 [==============================] - 9s 344ms/step - loss: 0.3653 - accuracy: 0.9994 - val_loss: 4.9743 - val_accuracy: 0.1810\n",
            "Epoch 39/50\n",
            "25/25 [==============================] - 9s 345ms/step - loss: 0.3589 - accuracy: 0.9996 - val_loss: 4.7418 - val_accuracy: 0.1907\n",
            "Epoch 40/50\n",
            "25/25 [==============================] - 8s 343ms/step - loss: 0.3564 - accuracy: 0.9999 - val_loss: 4.7926 - val_accuracy: 0.1894\n",
            "Epoch 41/50\n",
            "25/25 [==============================] - 9s 345ms/step - loss: 0.3530 - accuracy: 1.0000 - val_loss: 5.1643 - val_accuracy: 0.1738\n",
            "Epoch 42/50\n",
            "25/25 [==============================] - 9s 344ms/step - loss: 0.3441 - accuracy: 0.9998 - val_loss: 5.2810 - val_accuracy: 0.1663\n",
            "Epoch 43/50\n",
            "25/25 [==============================] - 9s 345ms/step - loss: 0.3646 - accuracy: 0.9937 - val_loss: 5.7498 - val_accuracy: 0.1630\n",
            "Epoch 44/50\n",
            "25/25 [==============================] - 9s 344ms/step - loss: 0.3770 - accuracy: 0.9962 - val_loss: 5.3028 - val_accuracy: 0.1709\n",
            "Epoch 45/50\n",
            "25/25 [==============================] - 9s 345ms/step - loss: 0.3726 - accuracy: 0.9969 - val_loss: 6.2959 - val_accuracy: 0.1452\n",
            "Epoch 46/50\n",
            "25/25 [==============================] - 9s 344ms/step - loss: 0.3956 - accuracy: 0.9912 - val_loss: 6.2045 - val_accuracy: 0.1559\n",
            "Epoch 47/50\n",
            "25/25 [==============================] - 9s 345ms/step - loss: 0.3967 - accuracy: 0.9925 - val_loss: 6.5270 - val_accuracy: 0.1384\n",
            "Epoch 48/50\n",
            "25/25 [==============================] - 9s 345ms/step - loss: 0.4096 - accuracy: 0.9890 - val_loss: 6.9026 - val_accuracy: 0.1385\n",
            "Epoch 49/50\n",
            "25/25 [==============================] - 9s 345ms/step - loss: 0.4627 - accuracy: 0.9766 - val_loss: 7.2580 - val_accuracy: 0.1349\n",
            "Epoch 50/50\n",
            "25/25 [==============================] - 8s 344ms/step - loss: 0.5063 - accuracy: 0.9634 - val_loss: 8.4170 - val_accuracy: 0.1235\n",
            "313/313 [==============================] - 5s 14ms/step - loss: 8.4170 - accuracy: 0.1235\n",
            "Test loss: 8.416993141174316\n",
            "Test accuracy: 0.12349999696016312\n"
          ],
          "name": "stdout"
        }
      ]
    },
    {
      "cell_type": "markdown",
      "metadata": {
        "id": "fceREtcyiukd"
      },
      "source": [
        "Plot Accuracy"
      ]
    },
    {
      "cell_type": "code",
      "metadata": {
        "colab": {
          "base_uri": "https://localhost:8080/",
          "height": 71
        },
        "id": "EftCS_QYgSND",
        "outputId": "94ff6a14-eb4d-4e4a-e959-9ceee0c382a6"
      },
      "source": [
        "import matplotlib.pyplot as plt\n",
        "\n",
        "plt.figure(0)\n",
        "plt.plot(plot.history['accuracy'], label='Training Accuracy')\n",
        "plt.plot(plot.history['val_accuracy'], label='Test Accuracy')\n",
        "#plt.plot(plot.history['loss'], label='Training Loss')\n",
        "plt.title('Accuracy')\n",
        "plt.xlabel('epochs')\n",
        "plt.ylabel('accuracy')\n",
        "plt.legend()"
      ],
      "execution_count": null,
      "outputs": [
        {
          "output_type": "execute_result",
          "data": {
            "text/plain": [
              "<matplotlib.legend.Legend at 0x7fa06b06ee50>"
            ]
          },
          "metadata": {
            "tags": []
          },
          "execution_count": 17
        },
        {
          "output_type": "display_data",
          "data": {
            "image/png": "[encoded data removed]",
            "text/plain": [
              "<Figure size 432x288 with 1 Axes>"
            ]
          },
          "metadata": {
            "tags": [],
            "needs_background": "light"
          }
        }
      ]
    },
    {
      "cell_type": "markdown",
      "metadata": {
        "id": "ll27fbC1jC5I"
      },
      "source": [
        "Plot Loss"
      ]
    },
    {
      "cell_type": "code",
      "metadata": {
        "colab": {
          "base_uri": "https://localhost:8080/",
          "height": 312
        },
        "id": "Km3f5IA3gkL5",
        "outputId": "9c5bedcc-e485-40ef-c82f-2a15354f3545"
      },
      "source": [
        "plt.plot(plot.history['loss'], label='Training Loss')\n",
        "plt.title('Loss')\n",
        "plt.xlabel('epochs')\n",
        "plt.ylabel('loss')\n",
        "plt.legend()"
      ],
      "execution_count": null,
      "outputs": [
        {
          "output_type": "execute_result",
          "data": {
            "text/plain": [
              "<matplotlib.legend.Legend at 0x7fa06e114690>"
            ]
          },
          "metadata": {
            "tags": []
          },
          "execution_count": 18
        },
        {
          "output_type": "display_data",
          "data": {
            "image/png": "[encoded data removed]",
            "text/plain": [
              "<Figure size 432x288 with 1 Axes>"
            ]
          },
          "metadata": {
            "tags": [],
            "needs_background": "light"
          }
        }
      ]
    },
    {
      "cell_type": "code",
      "metadata": {
        "id": "_Zk_fP-xg4tr"
      },
      "source": [],
      "execution_count": null,
      "outputs": []
    }
  ]
}